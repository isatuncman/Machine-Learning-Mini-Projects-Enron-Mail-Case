{
 "cells": [
  {
   "cell_type": "markdown",
   "metadata": {},
   "source": [
    "# Identify Fraud From Enron Email"
   ]
  },
  {
   "cell_type": "markdown",
   "metadata": {},
   "source": [
    "### Summarize for us the goal of this project and how machine learning is useful in trying to accomplish it. As part of your answer, give some background on the dataset and how it can be used to answer the project question. Were there any outliers in the data when you got it, and how did you handle those?  [relevant rubric items: “data exploration”, “outlier investigation”]\n"
   ]
  },
  {
   "cell_type": "markdown",
   "metadata": {},
   "source": [
    "The purpose of this study is to identify  the Enron Employees who has involved fraud incident. The machine learning  algoritms are used to best classify the employees based on the features extracted from their emails. Supervison Learning methods are  very useful to  classify  data  into distinct classses based on the  features. I will try to  find best classification model using the given features and alternative classification algorithms .\n"
   ]
  },
  {
   "cell_type": "markdown",
   "metadata": {},
   "source": [
    "For this study, a POI (person of interest) is operationally defined as a person  who:\n",
    "* was  indicted\n",
    "* settled without admitting guilt\n",
    "* testified  in exchange for immunity"
   ]
  },
  {
   "cell_type": "markdown",
   "metadata": {},
   "source": [
    "## q1) How many data points (people) are in the dataset?"
   ]
  },
  {
   "cell_type": "markdown",
   "metadata": {},
   "source": [
    "Number of employees:  146"
   ]
  },
  {
   "cell_type": "markdown",
   "metadata": {},
   "source": [
    "## q2) How many POIs are there in dataset?"
   ]
  },
  {
   "cell_type": "markdown",
   "metadata": {},
   "source": [
    "Number of poi's: 18"
   ]
  },
  {
   "cell_type": "markdown",
   "metadata": {},
   "source": [
    "## q3) For each person, how many features are available?"
   ]
  },
  {
   "cell_type": "markdown",
   "metadata": {},
   "source": [
    "There  exist 21  features in the dataset.  Financial features: 14, Email features: 6, POI label: 1"
   ]
  },
  {
   "cell_type": "markdown",
   "metadata": {},
   "source": [
    "* financial features: ['salary', 'deferral_payments', 'total_payments', 'loan_advances', 'bonus', 'restricted_stock_deferred', 'deferred_income', 'total_stock_value', 'expenses', 'exercised_stock_options', 'other', 'long_term_incentive', 'restricted_stock', 'director_fees'] (all units are in US dollars)\n",
    "* email features: ['to_messages', 'email_address', 'from_poi_to_this_person', 'from_messages', 'from_this_person_to_poi', 'shared_receipt_with_poi'] (units are generally number of emails messages; notable exception is ‘email_address’, which is a text string)\n",
    "* POI label: [‘poi’] (boolean, represented as integer)"
   ]
  },
  {
   "cell_type": "markdown",
   "metadata": {},
   "source": [
    "## q4)  Which fields include missing values in the dataset?"
   ]
  },
  {
   "cell_type": "markdown",
   "metadata": {},
   "source": [
    "The Missing fields and corresponding frequencies are given as below:\n",
    "* 'salary': 51 \n",
    "* 'to_messages': 60\n",
    "* 'deferral_payments': 107\n",
    "* 'total_payments': 21\n",
    "* 'long_term_incentive': 80 \n",
    "* 'loan_advances': 142 \n",
    "* 'bonus': 64\n",
    "* 'restricted_stock': 36 \n",
    "* 'restricted_stock_deferred': 128 \n",
    "* 'total_stock_value': 20\n",
    "* 'shared_receipt_with_poi': 60 \n",
    "* 'from_poi_to_this_person': 60\n",
    "* 'exercised_stock_options': 44\n",
    "* 'from_messages': 60\n",
    "* 'other': 53 \n",
    "* 'from_this_person_to_poi': 60\n",
    "* 'deferred_income': 97 \n",
    "* 'expenses': 51\n",
    "* 'email_address': 35 \n",
    "* 'director_fees': 129"
   ]
  },
  {
   "cell_type": "markdown",
   "metadata": {},
   "source": [
    "Missing features  are cleaned by the  feature_format function . Therefore, I did not make any addditional work to change the  feature_format function. However, we can imput average value of the field for each missing data as a rule of thumb."
   ]
  },
  {
   "cell_type": "markdown",
   "metadata": {},
   "source": [
    "## q5)  What are the outliers in the dataset?\n"
   ]
  },
  {
   "cell_type": "markdown",
   "metadata": {},
   "source": [
    "The outliers are 'TOTAL' and  'THE TRAVEL AGENCY IN THE PARK' .  The total is  "
   ]
  },
  {
   "cell_type": "code",
   "execution_count": null,
   "metadata": {
    "collapsed": true
   },
   "outputs": [],
   "source": []
  }
 ],
 "metadata": {
  "anaconda-cloud": {},
  "kernelspec": {
   "display_name": "Python [conda env:DAND]",
   "language": "python",
   "name": "conda-env-DAND-py"
  },
  "language_info": {
   "codemirror_mode": {
    "name": "ipython",
    "version": 2
   },
   "file_extension": ".py",
   "mimetype": "text/x-python",
   "name": "python",
   "nbconvert_exporter": "python",
   "pygments_lexer": "ipython2",
   "version": "2.7.12"
  }
 },
 "nbformat": 4,
 "nbformat_minor": 2
}
